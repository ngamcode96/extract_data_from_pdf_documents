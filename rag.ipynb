{
 "cells": [
  {
   "cell_type": "code",
   "execution_count": 1,
   "id": "e1583697",
   "metadata": {},
   "outputs": [],
   "source": [
    "from utils import get_database_driver"
   ]
  },
  {
   "cell_type": "code",
   "execution_count": 2,
   "id": "a0204795",
   "metadata": {},
   "outputs": [],
   "source": [
    "driver = get_database_driver()"
   ]
  },
  {
   "cell_type": "code",
   "execution_count": 6,
   "id": "19ff1634",
   "metadata": {},
   "outputs": [
    {
     "data": {
      "text/plain": [
       "EagerResult(records=[], summary=<neo4j._work.summary.ResultSummary object at 0x103f24890>, keys=[])"
      ]
     },
     "execution_count": 6,
     "metadata": {},
     "output_type": "execute_result"
    }
   ],
   "source": [
    "driver.execute_query(\"MERGE (d: Document{title: 'Test document'})\")"
   ]
  },
  {
   "cell_type": "code",
   "execution_count": null,
   "id": "a93cf8b4",
   "metadata": {},
   "outputs": [],
   "source": []
  }
 ],
 "metadata": {
  "kernelspec": {
   "display_name": "venv",
   "language": "python",
   "name": "python3"
  },
  "language_info": {
   "codemirror_mode": {
    "name": "ipython",
    "version": 3
   },
   "file_extension": ".py",
   "mimetype": "text/x-python",
   "name": "python",
   "nbconvert_exporter": "python",
   "pygments_lexer": "ipython3",
   "version": "3.11.12"
  }
 },
 "nbformat": 4,
 "nbformat_minor": 5
}
