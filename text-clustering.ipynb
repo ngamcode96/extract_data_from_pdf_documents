{
 "cells": [
  {
   "cell_type": "code",
   "execution_count": 5,
   "id": "1bbface6",
   "metadata": {},
   "outputs": [],
   "source": [
    "from datasets import load_dataset"
   ]
  },
  {
   "cell_type": "code",
   "execution_count": 6,
   "id": "75d986ad",
   "metadata": {},
   "outputs": [],
   "source": [
    "dataset = load_dataset('HuggingFaceTB/cosmopedia-100k')"
   ]
  },
  {
   "cell_type": "code",
   "execution_count": 6,
   "id": "410aceee",
   "metadata": {},
   "outputs": [],
   "source": [
    "df = dataset[\"train\"].to_pandas()"
   ]
  },
  {
   "cell_type": "code",
   "execution_count": 17,
   "id": "d7606c28",
   "metadata": {},
   "outputs": [],
   "source": [
    "import pandas as pd\n",
    "\n",
    "df = pd.read_csv(\"data/cosmopedia-with-embeddings.csv\")"
   ]
  },
  {
   "cell_type": "code",
   "execution_count": 18,
   "id": "dee81d2b",
   "metadata": {},
   "outputs": [
    {
     "data": {
      "text/html": [
       "<div>\n",
       "<style scoped>\n",
       "    .dataframe tbody tr th:only-of-type {\n",
       "        vertical-align: middle;\n",
       "    }\n",
       "\n",
       "    .dataframe tbody tr th {\n",
       "        vertical-align: top;\n",
       "    }\n",
       "\n",
       "    .dataframe thead th {\n",
       "        text-align: right;\n",
       "    }\n",
       "</style>\n",
       "<table border=\"1\" class=\"dataframe\">\n",
       "  <thead>\n",
       "    <tr style=\"text-align: right;\">\n",
       "      <th></th>\n",
       "      <th>Unnamed: 0</th>\n",
       "      <th>prompt</th>\n",
       "      <th>text_token_length</th>\n",
       "      <th>text</th>\n",
       "      <th>seed_data</th>\n",
       "      <th>format</th>\n",
       "      <th>audience</th>\n",
       "      <th>embedding</th>\n",
       "    </tr>\n",
       "  </thead>\n",
       "  <tbody>\n",
       "    <tr>\n",
       "      <th>0</th>\n",
       "      <td>0</td>\n",
       "      <td>Here is an extract from a webpage: \"What can c...</td>\n",
       "      <td>585</td>\n",
       "      <td>When you've been involved in an auto accident...</td>\n",
       "      <td>web_samples_v2</td>\n",
       "      <td>blogpost</td>\n",
       "      <td>general</td>\n",
       "      <td>[-0.04932722449302673, 0.005096479784697294, 0...</td>\n",
       "    </tr>\n",
       "    <tr>\n",
       "      <th>1</th>\n",
       "      <td>1</td>\n",
       "      <td>Here is an extract from a webpage: \"The LISA P...</td>\n",
       "      <td>896</td>\n",
       "      <td>Course Unit: LISA Pathfinder Mission and Grav...</td>\n",
       "      <td>web_samples_v1</td>\n",
       "      <td>textbook_academic_tone</td>\n",
       "      <td>college_students</td>\n",
       "      <td>[-0.07238882780075073, -0.0395820327103138, 0....</td>\n",
       "    </tr>\n",
       "    <tr>\n",
       "      <th>2</th>\n",
       "      <td>2</td>\n",
       "      <td>Here is an extract from a webpage: \"Recording ...</td>\n",
       "      <td>701</td>\n",
       "      <td>Title: Making Mathematics Accessible: The Imp...</td>\n",
       "      <td>web_samples_v1</td>\n",
       "      <td>blogpost</td>\n",
       "      <td>general</td>\n",
       "      <td>[-0.05812391638755798, -0.002327580004930496, ...</td>\n",
       "    </tr>\n",
       "    <tr>\n",
       "      <th>3</th>\n",
       "      <td>3</td>\n",
       "      <td>Here is an extract from a webpage: \"DoP Jules ...</td>\n",
       "      <td>808</td>\n",
       "      <td>The Performing Arts encompass many different ...</td>\n",
       "      <td>web_samples_v2</td>\n",
       "      <td>blogpost</td>\n",
       "      <td>general</td>\n",
       "      <td>[-0.021054651588201523, -0.04698284715414047, ...</td>\n",
       "    </tr>\n",
       "    <tr>\n",
       "      <th>4</th>\n",
       "      <td>4</td>\n",
       "      <td>Write an educational story (3-5 paragraphs) ta...</td>\n",
       "      <td>497</td>\n",
       "      <td>It was a bright, sunny day and Maria was exci...</td>\n",
       "      <td>openhermes2.5</td>\n",
       "      <td>story_children</td>\n",
       "      <td>young_children</td>\n",
       "      <td>[0.01722874864935875, 0.016011737287044525, 0....</td>\n",
       "    </tr>\n",
       "  </tbody>\n",
       "</table>\n",
       "</div>"
      ],
      "text/plain": [
       "   Unnamed: 0                                             prompt  \\\n",
       "0           0  Here is an extract from a webpage: \"What can c...   \n",
       "1           1  Here is an extract from a webpage: \"The LISA P...   \n",
       "2           2  Here is an extract from a webpage: \"Recording ...   \n",
       "3           3  Here is an extract from a webpage: \"DoP Jules ...   \n",
       "4           4  Write an educational story (3-5 paragraphs) ta...   \n",
       "\n",
       "   text_token_length                                               text  \\\n",
       "0                585   When you've been involved in an auto accident...   \n",
       "1                896   Course Unit: LISA Pathfinder Mission and Grav...   \n",
       "2                701   Title: Making Mathematics Accessible: The Imp...   \n",
       "3                808   The Performing Arts encompass many different ...   \n",
       "4                497   It was a bright, sunny day and Maria was exci...   \n",
       "\n",
       "        seed_data                  format          audience  \\\n",
       "0  web_samples_v2                blogpost           general   \n",
       "1  web_samples_v1  textbook_academic_tone  college_students   \n",
       "2  web_samples_v1                blogpost           general   \n",
       "3  web_samples_v2                blogpost           general   \n",
       "4   openhermes2.5          story_children    young_children   \n",
       "\n",
       "                                           embedding  \n",
       "0  [-0.04932722449302673, 0.005096479784697294, 0...  \n",
       "1  [-0.07238882780075073, -0.0395820327103138, 0....  \n",
       "2  [-0.05812391638755798, -0.002327580004930496, ...  \n",
       "3  [-0.021054651588201523, -0.04698284715414047, ...  \n",
       "4  [0.01722874864935875, 0.016011737287044525, 0....  "
      ]
     },
     "execution_count": 18,
     "metadata": {},
     "output_type": "execute_result"
    }
   ],
   "source": [
    "df.head()"
   ]
  },
  {
   "cell_type": "code",
   "execution_count": 19,
   "id": "2d241edb",
   "metadata": {},
   "outputs": [],
   "source": [
    "from sentence_transformers import SentenceTransformer\n",
    "embedding_model = SentenceTransformer(\"thenlper/gte-small\")"
   ]
  },
  {
   "cell_type": "code",
   "execution_count": null,
   "id": "636b7ccc",
   "metadata": {},
   "outputs": [],
   "source": [
    "embeddings = embedding_model.encode(df[\"text\"], show_progress_bar=True, batch_size=32)"
   ]
  },
  {
   "cell_type": "code",
   "execution_count": 21,
   "id": "64c73679",
   "metadata": {},
   "outputs": [
    {
     "data": {
      "text/plain": [
       "array([[-0.04932722,  0.00509648,  0.04378261, ..., -0.03130245,\n",
       "         0.05591073,  0.00125157],\n",
       "       [-0.07238883, -0.03958203,  0.0269948 , ..., -0.01371068,\n",
       "        -0.00131882,  0.01340186],\n",
       "       [-0.05812392, -0.00232758,  0.03529689, ...,  0.02320929,\n",
       "         0.02175455,  0.04959507],\n",
       "       ...,\n",
       "       [-0.02138558,  0.01342722,  0.05929201, ..., -0.04456983,\n",
       "         0.01026244,  0.02929242],\n",
       "       [-0.0046029 ,  0.00226186,  0.05602154, ..., -0.05386383,\n",
       "         0.01121266, -0.02191613],\n",
       "       [-0.03295866, -0.01070711,  0.02379923, ..., -0.02127721,\n",
       "         0.09072022,  0.04464527]], shape=(100000, 384))"
      ]
     },
     "execution_count": 21,
     "metadata": {},
     "output_type": "execute_result"
    }
   ],
   "source": [
    "import ast\n",
    "import numpy as np\n",
    "\n",
    "embeddings = df[\"embedding\"].to_numpy()\n",
    "embeddings = np.array([ast.literal_eval(item) for item in embeddings])\n",
    "embeddings"
   ]
  },
  {
   "cell_type": "code",
   "execution_count": 22,
   "id": "447b8b82",
   "metadata": {},
   "outputs": [],
   "source": [
    "from umap import UMAP\n",
    "umap_model = UMAP(n_components=5, n_neighbors=5, min_dist=0.2, metric='cosine', random_state=42)\n",
    "# reduced_embeddings = umap_model.fit_transform(embeddings)"
   ]
  },
  {
   "cell_type": "code",
   "execution_count": 23,
   "id": "43849c1a",
   "metadata": {},
   "outputs": [],
   "source": [
    "from hdbscan import HDBSCAN\n",
    "hdbscan_model = HDBSCAN(min_cluster_size=50, metric=\"euclidean\", cluster_selection_method=\"eom\")"
   ]
  },
  {
   "cell_type": "code",
   "execution_count": 24,
   "id": "5b4a8257",
   "metadata": {},
   "outputs": [
    {
     "name": "stderr",
     "output_type": "stream",
     "text": [
      "huggingface/tokenizers: The current process just got forked, after parallelism has already been used. Disabling parallelism to avoid deadlocks...\n",
      "huggingface/tokenizers: The current process just got forked, after parallelism has already been used. Disabling parallelism to avoid deadlocks...\n",
      "huggingface/tokenizers: The current process just got forked, after parallelism has already been used. Disabling parallelism to avoid deadlocks...\n",
      "To disable this warning, you can either:\n",
      "\t- Avoid using `tokenizers` before the fork if possible\n",
      "\t- Explicitly set the environment variable huggingface/tokenizers: The current process just got forked, after parallelism has already been used. Disabling parallelism to avoid deadlocks...\n",
      "TOKENIZERS_PARALLELISMTo disable this warning, you can either:\n",
      "=(true | false)\n",
      "To disable this warning, you can either:\n",
      "To disable this warning, you can either:\n",
      "\t- Avoid using `tokenizers` before the fork if possible\n",
      "\t- Explicitly set the environment variable \t- Avoid using `tokenizers` before the fork if possible\n",
      "\t- Explicitly set the environment variable TOKENIZERS_PARALLELISM=(true | false)\n",
      "TOKENIZERS_PARALLELISM=(true | false)\n",
      "\t- Avoid using `tokenizers` before the fork if possible\n",
      "\t- Explicitly set the environment variable TOKENIZERS_PARALLELISM=(true | false)\n"
     ]
    }
   ],
   "source": [
    "from bertopic import BERTopic\n",
    "topic_model = BERTopic(embedding_model=embedding_model, umap_model=umap_model, hdbscan_model=hdbscan_model)\n",
    "topics, probs = topic_model.fit_transform(df[\"text\"], embeddings)"
   ]
  },
  {
   "cell_type": "code",
   "execution_count": 25,
   "id": "dc221546",
   "metadata": {},
   "outputs": [],
   "source": [
    "reduced_embeddings = UMAP(n_components=2, n_neighbors=5, metric='cosine', random_state=42).fit_transform(embeddings)"
   ]
  },
  {
   "cell_type": "code",
   "execution_count": null,
   "id": "c2a5d7e2",
   "metadata": {},
   "outputs": [],
   "source": [
    "topic_model.visualize_documents(df[\"text\"], reduced_embeddings=reduced_embeddings, hide_annotations=True)"
   ]
  },
  {
   "cell_type": "code",
   "execution_count": null,
   "id": "a931f4cf",
   "metadata": {},
   "outputs": [],
   "source": []
  }
 ],
 "metadata": {
  "kernelspec": {
   "display_name": "venv",
   "language": "python",
   "name": "python3"
  },
  "language_info": {
   "codemirror_mode": {
    "name": "ipython",
    "version": 3
   },
   "file_extension": ".py",
   "mimetype": "text/x-python",
   "name": "python",
   "nbconvert_exporter": "python",
   "pygments_lexer": "ipython3",
   "version": "3.11.12"
  }
 },
 "nbformat": 4,
 "nbformat_minor": 5
}
