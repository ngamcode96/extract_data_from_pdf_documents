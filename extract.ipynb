{
 "cells": [
  {
   "cell_type": "code",
   "execution_count": 1,
   "id": "bff09584",
   "metadata": {},
   "outputs": [],
   "source": [
    "import pdfplumber\n",
    "import re\n",
    "import json\n",
    "from utils import is_toc_page"
   ]
  },
  {
   "cell_type": "code",
   "execution_count": null,
   "id": "048621c5",
   "metadata": {},
   "outputs": [],
   "source": [
    "path = ''"
   ]
  },
  {
   "cell_type": "code",
   "execution_count": 60,
   "id": "f2d5e926",
   "metadata": {},
   "outputs": [],
   "source": [
    "raw_text = ''\n",
    "with pdfplumber.open(path) as pdf:\n",
    "    for i, page in enumerate(pdf.pages[:97]):\n",
    "        text = page.extract_text()\n",
    "        if not is_toc_page(text):\n",
    "            raw_text += f\"\\n<page>{i}</page>\\n\" + text"
   ]
  },
  {
   "cell_type": "code",
   "execution_count": null,
   "id": "1b9eb2a7",
   "metadata": {},
   "outputs": [],
   "source": [
    "print(raw_text)"
   ]
  },
  {
   "cell_type": "code",
   "execution_count": 108,
   "id": "9b84e1a0",
   "metadata": {},
   "outputs": [],
   "source": [
    "def extract_clauses_from_text(text):\n",
    "    # Patterns\n",
    "    page_number_pattern = re.compile(r\"<page>(\\d+)</page>\")\n",
    "    title_pattern = re.compile(r\"^(\\d{1,2})\\.\\s+(.+)$\")\n",
    "    subtitle_pattern = re.compile(r\"^(\\d{1,2}(?:\\.\\d{1,2})?)\\s+([A-Z][^\\n]+)$\")\n",
    "    subclause_pattern = re.compile(r\"^\\s*\\(([a-zA-Z]|[ivxlcdm]+|\\d+)\\)\\s+(.*?)(?=\\n\\s*\\([a-zA-Zivxlcdm\\d]+\\)\\s+|\\Z)\", re.IGNORECASE)\n",
    "    definition_pattern = re.compile(r'^\"([^\"]+)\"\\s+means:?\\s*$')\n",
    "\n",
    "    current_page_number = 0\n",
    "    current_title = None\n",
    "    current_definition = None\n",
    "    subclauses = []\n",
    "    definitions = []\n",
    "    subtitles = []\n",
    "    clauses = [{\n",
    "                \"number\": \"\",\n",
    "                \"title\": \"Cover page and Borrowers\",\n",
    "                \"full_title\": \"\",\n",
    "                \"text\": \"\",\n",
    "                \"subtitles\": [{\n",
    "                    'number': \"\",\n",
    "                    'subtitle':\"no_subtitle\",\n",
    "                    'full_subtitle': \"\",\n",
    "                    'subclauses': subclauses,\n",
    "                    'text': '',\n",
    "                    'definitions' : {},\n",
    "                    \"page_number\": current_page_number,\n",
    "                }],\n",
    "                \"page_number\": current_page_number,\n",
    "            }]\n",
    "\n",
    "    # Split text into lines\n",
    "    lines = text.split(\"\\n\")\n",
    "\n",
    "    for line in lines:\n",
    "        line = line.strip()\n",
    "        if not line:\n",
    "            continue\n",
    "\n",
    "        # Matches\n",
    "        page_number_match = page_number_pattern.match(line)\n",
    "        title_match = title_pattern.match(line)\n",
    "        subtitle_match = subtitle_pattern.match(line)\n",
    "        subclause_match = subclause_pattern.match(line)\n",
    "        definition_match = definition_pattern.match(line)\n",
    "\n",
    "\n",
    "        if page_number_match:\n",
    "            current_page_number = page_number_match.group(1)\n",
    "            continue\n",
    "\n",
    "        if title_match:\n",
    "            subtitles = []\n",
    "            subclauses = []\n",
    "            current_definition = None\n",
    "            current_title = {\n",
    "                \"number\": title_match.group(1),\n",
    "                \"title\": title_match.group(2).strip(),\n",
    "                \"full_title\": line,\n",
    "                \"text\": \"\",\n",
    "                \"subtitles\": subtitles,\n",
    "                \"page_number\": current_page_number,\n",
    "            }\n",
    "            clauses.append(current_title)\n",
    "\n",
    "        elif subtitle_match and current_title:\n",
    "            subclauses = []\n",
    "            current_definition = None\n",
    "            subtitles.append({\n",
    "                \"number\": subtitle_match.group(1),\n",
    "                \"subtitle\": subtitle_match.group(2),\n",
    "                \"full_subtitle\": line,\n",
    "                \"subclauses\": subclauses,\n",
    "                \"text\": \"\",\n",
    "                \"definitions\" : {},\n",
    "                \"page_number\": current_page_number,\n",
    "            })\n",
    "            clauses[-1]['subtitles'] = subtitles\n",
    "\n",
    "        elif subclause_match and clauses[-1]['subtitles']:\n",
    "            subclause = {\n",
    "                \"label\": subclause_match.group(1),\n",
    "                \"text\": subclause_match.group(2).strip(),\n",
    "                \"full_text\": line,\n",
    "                \"page_number\": current_page_number\n",
    "            }\n",
    "\n",
    "            if current_definition:\n",
    "                subclause[\"rank\"] = len(definitions)\n",
    "                definitions.append(subclause)\n",
    "                clauses[-1]['subtitles'][-1]['definitions'][current_definition] = definitions\n",
    "            else:\n",
    "                subclause[\"rank\"] = len(subclauses)\n",
    "                subclauses.append(subclause)\n",
    "                clauses[-1]['subtitles'][-1]['subclauses'] = subclauses\n",
    "\n",
    "        elif definition_match and clauses[-1]['subtitles']:\n",
    "            current_definition = line\n",
    "            definitions = []\n",
    "            clauses[-1]['subtitles'][-1]['definitions'][current_definition] = []\n",
    "\n",
    "        elif subclauses:\n",
    "            clauses[-1]['subtitles'][-1]['subclauses'][-1]['text'] += \"\\n\" + line\n",
    "\n",
    "        elif definitions and clauses[-1]['subtitles'] and current_definition:\n",
    "            clauses[-1]['subtitles'][-1]['definitions'][current_definition][-1]['text'] += \"\\n\" + line\n",
    "\n",
    "        elif subtitles:\n",
    "            clauses[-1]['subtitles'][-1]['text'] += \"\\n\" + line\n",
    "        else:\n",
    "            clauses[-1]['text'] += \"\\n\" + line\n",
    "\n",
    "    return clauses"
   ]
  },
  {
   "cell_type": "code",
   "execution_count": 109,
   "id": "0b7ca5ed",
   "metadata": {},
   "outputs": [
    {
     "name": "stdout",
     "output_type": "stream",
     "text": [
      "✅ JSON saved to: output_clauses_v2.json\n"
     ]
    }
   ],
   "source": [
    "structured_data = {\"clauses\": extract_clauses_from_text(raw_text)}\n",
    "output_json_path = \"output_clauses_v2.json\"\n",
    "with open(output_json_path, \"w\", encoding=\"utf-8\") as f:\n",
    "    json.dump(structured_data, f, indent=2, ensure_ascii=False)\n",
    "\n",
    "    print(f\"✅ JSON saved to: {output_json_path}\")\n",
    "\n"
   ]
  },
  {
   "cell_type": "code",
   "execution_count": 110,
   "id": "ce779552",
   "metadata": {},
   "outputs": [],
   "source": [
    "# Load json file\n",
    "\n",
    "with open(output_json_path, 'r') as f:\n",
    "    data = json.load(f)"
   ]
  },
  {
   "cell_type": "code",
   "execution_count": 111,
   "id": "580a304e",
   "metadata": {},
   "outputs": [
    {
     "name": "stdout",
     "output_type": "stream",
     "text": [
      "0 dict_keys(['number', 'title', 'full_title', 'text', 'subtitles', 'page_number'])\n",
      "1 dict_keys(['number', 'title', 'full_title', 'text', 'subtitles', 'page_number'])\n",
      "2 dict_keys(['number', 'title', 'full_title', 'text', 'subtitles', 'page_number'])\n",
      "3 dict_keys(['number', 'title', 'full_title', 'text', 'subtitles', 'page_number'])\n",
      "4 dict_keys(['number', 'title', 'full_title', 'text', 'subtitles', 'page_number'])\n",
      "5 dict_keys(['number', 'title', 'full_title', 'text', 'subtitles', 'page_number'])\n",
      "6 dict_keys(['number', 'title', 'full_title', 'text', 'subtitles', 'page_number'])\n",
      "7 dict_keys(['number', 'title', 'full_title', 'text', 'subtitles', 'page_number'])\n",
      "8 dict_keys(['number', 'title', 'full_title', 'text', 'subtitles', 'page_number'])\n",
      "9 dict_keys(['number', 'title', 'full_title', 'text', 'subtitles', 'page_number'])\n",
      "10 dict_keys(['number', 'title', 'full_title', 'text', 'subtitles', 'page_number'])\n",
      "11 dict_keys(['number', 'title', 'full_title', 'text', 'subtitles', 'page_number'])\n",
      "12 dict_keys(['number', 'title', 'full_title', 'text', 'subtitles', 'page_number'])\n",
      "13 dict_keys(['number', 'title', 'full_title', 'text', 'subtitles', 'page_number'])\n",
      "14 dict_keys(['number', 'title', 'full_title', 'text', 'subtitles', 'page_number'])\n",
      "15 dict_keys(['number', 'title', 'full_title', 'text', 'subtitles', 'page_number'])\n",
      "16 dict_keys(['number', 'title', 'full_title', 'text', 'subtitles', 'page_number'])\n",
      "17 dict_keys(['number', 'title', 'full_title', 'text', 'subtitles', 'page_number'])\n",
      "18 dict_keys(['number', 'title', 'full_title', 'text', 'subtitles', 'page_number'])\n",
      "19 dict_keys(['number', 'title', 'full_title', 'text', 'subtitles', 'page_number'])\n",
      "20 dict_keys(['number', 'title', 'full_title', 'text', 'subtitles', 'page_number'])\n",
      "21 dict_keys(['number', 'title', 'full_title', 'text', 'subtitles', 'page_number'])\n",
      "22 dict_keys(['number', 'title', 'full_title', 'text', 'subtitles', 'page_number'])\n",
      "23 dict_keys(['number', 'title', 'full_title', 'text', 'subtitles', 'page_number'])\n",
      "24 dict_keys(['number', 'title', 'full_title', 'text', 'subtitles', 'page_number'])\n",
      "25 dict_keys(['number', 'title', 'full_title', 'text', 'subtitles', 'page_number'])\n",
      "26 dict_keys(['number', 'title', 'full_title', 'text', 'subtitles', 'page_number'])\n",
      "27 dict_keys(['number', 'title', 'full_title', 'text', 'subtitles', 'page_number'])\n",
      "28 dict_keys(['number', 'title', 'full_title', 'text', 'subtitles', 'page_number'])\n",
      "29 dict_keys(['number', 'title', 'full_title', 'text', 'subtitles', 'page_number'])\n",
      "30 dict_keys(['number', 'title', 'full_title', 'text', 'subtitles', 'page_number'])\n",
      "31 dict_keys(['number', 'title', 'full_title', 'text', 'subtitles', 'page_number'])\n",
      "32 dict_keys(['number', 'title', 'full_title', 'text', 'subtitles', 'page_number'])\n",
      "33 dict_keys(['number', 'title', 'full_title', 'text', 'subtitles', 'page_number'])\n",
      "34 dict_keys(['number', 'title', 'full_title', 'text', 'subtitles', 'page_number'])\n",
      "35 dict_keys(['number', 'title', 'full_title', 'text', 'subtitles', 'page_number'])\n",
      "36 dict_keys(['number', 'title', 'full_title', 'text', 'subtitles', 'page_number'])\n",
      "37 dict_keys(['number', 'title', 'full_title', 'text', 'subtitles', 'page_number'])\n",
      "38 dict_keys(['number', 'title', 'full_title', 'text', 'subtitles', 'page_number'])\n",
      "39 dict_keys(['number', 'title', 'full_title', 'text', 'subtitles', 'page_number'])\n",
      "40 dict_keys(['number', 'title', 'full_title', 'text', 'subtitles', 'page_number'])\n",
      "41 dict_keys(['number', 'title', 'full_title', 'text', 'subtitles', 'page_number'])\n",
      "42 dict_keys(['number', 'title', 'full_title', 'text', 'subtitles', 'page_number'])\n",
      "43 dict_keys(['number', 'title', 'full_title', 'text', 'subtitles', 'page_number'])\n"
     ]
    }
   ],
   "source": [
    "for index, clause in enumerate(data['clauses']):\n",
    "    print(index, clause.keys())"
   ]
  },
  {
   "cell_type": "code",
   "execution_count": 112,
   "id": "14d84d59",
   "metadata": {},
   "outputs": [
    {
     "name": "stdout",
     "output_type": "stream",
     "text": [
      "dict_keys(['number', 'subtitle', 'full_subtitle', 'subclauses', 'text', 'definitions', 'page_number'])\n",
      "dict_keys(['number', 'subtitle', 'full_subtitle', 'subclauses', 'text', 'definitions', 'page_number'])\n",
      "dict_keys(['number', 'subtitle', 'full_subtitle', 'subclauses', 'text', 'definitions', 'page_number'])\n",
      "dict_keys(['number', 'subtitle', 'full_subtitle', 'subclauses', 'text', 'definitions', 'page_number'])\n",
      "dict_keys(['number', 'subtitle', 'full_subtitle', 'subclauses', 'text', 'definitions', 'page_number'])\n",
      "dict_keys(['number', 'subtitle', 'full_subtitle', 'subclauses', 'text', 'definitions', 'page_number'])\n",
      "dict_keys(['number', 'subtitle', 'full_subtitle', 'subclauses', 'text', 'definitions', 'page_number'])\n"
     ]
    }
   ],
   "source": [
    "for subtitle in data['clauses'][31]['subtitles']:\n",
    "    print(subtitle.keys())"
   ]
  },
  {
   "cell_type": "code",
   "execution_count": 113,
   "id": "ffa2a11c",
   "metadata": {},
   "outputs": [],
   "source": [
    "# Store data into NEO4J database\n",
    "from utils import get_database_driver\n",
    "\n",
    "driver = get_database_driver()"
   ]
  },
  {
   "cell_type": "code",
   "execution_count": 114,
   "id": "ab52e35c",
   "metadata": {},
   "outputs": [
    {
     "data": {
      "text/plain": [
       "EagerResult(records=[], summary=<neo4j._work.summary.ResultSummary object at 0x3933a9990>, keys=[])"
      ]
     },
     "execution_count": 114,
     "metadata": {},
     "output_type": "execute_result"
    }
   ],
   "source": [
    "delete_query = \"MATCH (n) DETACH DELETE n\"\n",
    "driver.execute_query(delete_query)"
   ]
  },
  {
   "cell_type": "code",
   "execution_count": 115,
   "id": "49500bb7",
   "metadata": {},
   "outputs": [
    {
     "name": "stderr",
     "output_type": "stream",
     "text": [
      "/var/folders/8j/6df62lm96l3_w6q0mjw5h3b40000gn/T/ipykernel_37167/344183402.py:48: DeprecationWarning: write_transaction has been renamed to execute_write\n",
      "  session.write_transaction(create_graph, clause)\n"
     ]
    }
   ],
   "source": [
    "def create_graph(tx, clause):\n",
    "    tx.run(\"\"\"\n",
    "        MERGE (t:Title {label: $full_title})\n",
    "        SET t.number = $clause_number\n",
    "        SET t.title = $clause_title\n",
    "        SET t.text = $text\n",
    "        SET t.page_number = $page_number\n",
    "\n",
    "        WITH t\n",
    "        UNWIND $subtitles AS subtitle\n",
    "            MERGE (s:Subtitle {label: subtitle.full_subtitle})\n",
    "            SET s.number = subtitle.number\n",
    "            SET s.subtitle = subtitle.subtitle\n",
    "            SET s.text = subtitle.text\n",
    "            SET s.page_number = subtitle.page_number\n",
    "            MERGE (t)-[:HAS_SUBTITLE]->(s)\n",
    "\n",
    "            WITH s, subtitle\n",
    "            UNWIND subtitle.subclauses AS subclause\n",
    "                MERGE (sc:Subclause {label: subclause.label, text: subclause.text})\n",
    "                SET sc.text = subclause.text\n",
    "                SET sc.full_text = subclause.full_text\n",
    "                SET sc.page_number = subclause.page_number\n",
    "                SET sc.rank = subclause.rank\n",
    "                MERGE (s)-[:HAS_SUBCLAUSE]->(sc)\n",
    "\n",
    "            WITH s, subtitle\n",
    "                FOREACH (def_key IN keys(subtitle.definitions) |\n",
    "                    FOREACH (item IN subtitle.definitions[def_key] |\n",
    "                        MERGE (d:Definition {term: def_key, label: item.label})\n",
    "                        SET d.text = item.text\n",
    "                        SET d.full_text = item.full_text\n",
    "                        SET d.page_number = item.page_number\n",
    "                        SET d.rank = item.rank\n",
    "                        MERGE (s)-[:HAS_DEFINITION]->(d)\n",
    "            )\n",
    "            )\n",
    "    \"\"\", clause_title = clause[\"title\"],\n",
    "         full_title = clause[\"full_title\"],\n",
    "         text = clause[\"text\"],\n",
    "         page_number = clause[\"page_number\"],\n",
    "         clause_number = clause[\"number\"],\n",
    "         subtitles = clause[\"subtitles\"])\n",
    "\n",
    "# Load into Neo4j\n",
    "with driver.session() as session:\n",
    "    for clause in data[\"clauses\"]:\n",
    "        session.write_transaction(create_graph, clause)\n",
    "\n",
    "driver.close()"
   ]
  },
  {
   "cell_type": "code",
   "execution_count": null,
   "id": "93fad915",
   "metadata": {},
   "outputs": [],
   "source": [
    "# Create FULLTEXT INDEXES\n",
    "\n",
    "\"\"\"CREATE FULLTEXT INDEX title_subtitle_labels IF NOT EXISTS\n",
    "FOR (n:Title|Subtitle)\n",
    "ON EACH [n.label, n.text]\"\"\"\n",
    "\n",
    "#KEYWORD SEARCH\n",
    "\"\"\"CALL db.index.fulltext.queryNodes(\"title_subtitle_labels\", \"Confidential, co\") YIELD node, score\n",
    "RETURN node.label, node.text, score \"\"\""
   ]
  }
 ],
 "metadata": {
  "kernelspec": {
   "display_name": "venv",
   "language": "python",
   "name": "python3"
  },
  "language_info": {
   "codemirror_mode": {
    "name": "ipython",
    "version": 3
   },
   "file_extension": ".py",
   "mimetype": "text/x-python",
   "name": "python",
   "nbconvert_exporter": "python",
   "pygments_lexer": "ipython3",
   "version": "3.11.12"
  }
 },
 "nbformat": 4,
 "nbformat_minor": 5
}
